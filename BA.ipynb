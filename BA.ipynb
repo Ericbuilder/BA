{
  "nbformat": 4,
  "nbformat_minor": 0,
  "metadata": {
    "colab": {
      "name": "BA.ipynb",
      "provenance": [],
      "mount_file_id": "1pmEeGy9BJYqmjyO8W9zS72LDspRRQ26X",
      "authorship_tag": "ABX9TyPAsRZGbJbTQ8hdoQ/5Ts08",
      "include_colab_link": true
    },
    "kernelspec": {
      "name": "python3",
      "display_name": "Python 3"
    },
    "language_info": {
      "name": "python"
    }
  },
  "cells": [
    {
      "cell_type": "markdown",
      "metadata": {
        "id": "view-in-github",
        "colab_type": "text"
      },
      "source": [
        "<a href=\"https://colab.research.google.com/github/Ericbuilder/BA/blob/main/BA.ipynb\" target=\"_parent\"><img src=\"https://colab.research.google.com/assets/colab-badge.svg\" alt=\"Open In Colab\"/></a>"
      ]
    },
    {
      "cell_type": "markdown",
      "metadata": {
        "id": "FoHuUBRYXjWE"
      },
      "source": [
        "数据导入"
      ]
    },
    {
      "cell_type": "code",
      "metadata": {
        "id": "MoSseOKnXH8u"
      },
      "source": [
        "import pandas as pd\n",
        "import numpy as np\n",
        "import matplotlib.pyplot as plt\n",
        "from pylab import mpl\n",
        "import seaborn as sns\n",
        "import re\n",
        "import glob\n",
        "from mpl_toolkits.mplot3d import axes3d"
      ],
      "execution_count": null,
      "outputs": []
    },
    {
      "cell_type": "code",
      "metadata": {
        "id": "I9UmVvjsXi-t"
      },
      "source": [
        "path = '/content/sample_data/data'\n",
        "filenames = glob.glob(path+'/*.csv')\n",
        "n = len(filenames) - 1\n",
        "dfs = []\n",
        "for i in range(0,n):\n",
        "   f = pd.read_csv(filenames[i])\n",
        "   el = [filenames[i][14:20]]*f.iloc[:,0].size\n",
        "   f['time_period'] = el\n",
        "   dfs.append(f)\n",
        "result = pd.concat(dfs)\n",
        "adf = result.drop(columns=['id', 'name','host_name', 'host_id', 'room_type','minimum_nights',\n",
        "                 'number_of_reviews','last_review','reviews_per_month',\n",
        "                 'calculated_host_listings_count','availability_365'])\n",
        "bdf = adf[adf['neighbourhood_group'] == 'Manhattan']\n",
        "df = bdf.drop('neighbourhood_group',axis = 1)\n",
        "df"
      ],
      "execution_count": null,
      "outputs": []
    }
  ]
}